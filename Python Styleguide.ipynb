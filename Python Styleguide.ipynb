{
 "cells": [
  {
   "cell_type": "markdown",
   "metadata": {},
   "source": [
    "# Python Styleguide"
   ]
  },
  {
   "cell_type": "markdown",
   "metadata": {},
   "source": [
    "This styleguide will explain many pyhtonian things and also show code samples. At the same time, it will also include helpful links like youtube tutorials etc."
   ]
  },
  {
   "cell_type": "markdown",
   "metadata": {},
   "source": [
    "## Named tuples"
   ]
  },
  {
   "cell_type": "markdown",
   "metadata": {},
   "source": [
    "A named tuple is the perfect fit between a tuple and a dictionary and can therefore be helpful for more readable code"
   ]
  },
  {
   "cell_type": "markdown",
   "metadata": {},
   "source": [
    "Using a tuple is easy and fast. But it is not easy to read, what the \"indicies\" represent. A \"0\" is red in this case, but this might me difficult to find out with the first glance."
   ]
  },
  {
   "cell_type": "code",
   "execution_count": 41,
   "metadata": {},
   "outputs": [
    {
     "name": "stdout",
     "output_type": "stream",
     "text": [
      "55\n"
     ]
    }
   ],
   "source": [
    "#normal tuple\n",
    "color = (55,100,200)\n",
    "\n",
    "#print the red color\n",
    "print(color[0])"
   ]
  },
  {
   "cell_type": "markdown",
   "metadata": {},
   "source": [
    "We could use a dictionary for having easier to read access to the RGB values. But, we choosed a tuple in the first place for a reason. A dict is more effort to write, and it is mutable. Which we don't like (in this case)"
   ]
  },
  {
   "cell_type": "code",
   "execution_count": 42,
   "metadata": {},
   "outputs": [
    {
     "name": "stdout",
     "output_type": "stream",
     "text": [
      "55\n"
     ]
    }
   ],
   "source": [
    "#using a dictionary\n",
    "color = {'red':55,'green':100,'blue':200}\n",
    "print(color['red'])"
   ]
  },
  {
   "cell_type": "markdown",
   "metadata": {},
   "source": [
    "We can overcome this problem, by using a named tuple"
   ]
  },
  {
   "cell_type": "code",
   "execution_count": 45,
   "metadata": {},
   "outputs": [
    {
     "name": "stdout",
     "output_type": "stream",
     "text": [
      "55\n",
      "55\n"
     ]
    }
   ],
   "source": [
    "from collections import namedtuple\n",
    "\n",
    "Color = namedtuple('Color',['red','green','blue'])\n",
    "color = Color(55,100,200)\n",
    "\n",
    "print(color.red)\n",
    "print(color[0])"
   ]
  },
  {
   "cell_type": "markdown",
   "metadata": {},
   "source": [
    "## String interpolation "
   ]
  },
  {
   "cell_type": "markdown",
   "metadata": {},
   "source": [
    "String interpolation is used, to easier build up Strings. A String concatenation is alsways requrieing all variables to be Strings. So interpolation can help you avoiding this"
   ]
  },
  {
   "cell_type": "code",
   "execution_count": 36,
   "metadata": {},
   "outputs": [],
   "source": [
    "name = \"Sebastian\"\n",
    "age = 30"
   ]
  },
  {
   "cell_type": "code",
   "execution_count": 37,
   "metadata": {},
   "outputs": [
    {
     "name": "stdout",
     "output_type": "stream",
     "text": [
      "My name is: Sebastian and I am 30 years old\n"
     ]
    }
   ],
   "source": [
    "#Concatenation\n",
    "sentence = \"My name is: \"+ name + \" and I am \" + str(age) + \" years old\"\n",
    "print(sentence)"
   ]
  },
  {
   "cell_type": "code",
   "execution_count": 39,
   "metadata": {},
   "outputs": [
    {
     "name": "stdout",
     "output_type": "stream",
     "text": [
      "My name is Sebastian and I am 30 years old\n"
     ]
    }
   ],
   "source": [
    "#Interpolation\n",
    "sentence = \"My name is {} and I am {} years old\".format(name,age)\n",
    "print(sentence)"
   ]
  },
  {
   "cell_type": "code",
   "execution_count": 40,
   "metadata": {},
   "outputs": [
    {
     "name": "stdout",
     "output_type": "stream",
     "text": [
      "My name is Sebastian and I am 30 years old\n"
     ]
    }
   ],
   "source": [
    "#Interpolation second variation\n",
    "sentence = \"My name is {n} and I am {a} years old\".format(a = age, n = name)\n",
    "print(sentence)"
   ]
  },
  {
   "cell_type": "markdown",
   "metadata": {},
   "source": [
    "## Magic&Dunder Methods "
   ]
  },
  {
   "cell_type": "markdown",
   "metadata": {},
   "source": [
    "Magic and & Dunder Method help using classes in an easier way for users. You can define special methods like len(),str() etc. for an class and therefore can use these methods easily if needed with that object.\n"
   ]
  },
  {
   "cell_type": "markdown",
   "metadata": {},
   "source": [
    "The __init__() method is the constructor. Do not be confuse it with the __new__() method."
   ]
  },
  {
   "cell_type": "code",
   "execution_count": 1,
   "metadata": {},
   "outputs": [],
   "source": [
    "def __init__(self):\n",
    "    pass"
   ]
  },
  {
   "cell_type": "markdown",
   "metadata": {},
   "source": [
    "If you use the __str__() method, you can use the special function str() on this object. It behaves a bit like the toString method in Java. Is is highly suggested to use __str__() for better usage later on."
   ]
  },
  {
   "cell_type": "code",
   "execution_count": 2,
   "metadata": {},
   "outputs": [],
   "source": [
    "def __str__(self):\n",
    "    pass"
   ]
  },
  {
   "cell_type": "markdown",
   "metadata": {},
   "source": [
    "__repr__() is basically the \"developer\" version for __str__(). If Many developers use the code, it is reccomended to use this method. The problem is, that we do not know how to make a clear difference when to use __str__() or __repr__(). The overlap each other."
   ]
  },
  {
   "cell_type": "code",
   "execution_count": 3,
   "metadata": {},
   "outputs": [],
   "source": [
    "def __repr__(self):\n",
    "    pass"
   ]
  },
  {
   "cell_type": "markdown",
   "metadata": {},
   "source": [
    "__len__() should be self explaining."
   ]
  },
  {
   "cell_type": "code",
   "execution_count": 4,
   "metadata": {},
   "outputs": [],
   "source": [
    "def __len__(self):\n",
    "    pass"
   ]
  },
  {
   "cell_type": "markdown",
   "metadata": {},
   "source": [
    "## Memoization"
   ]
  },
  {
   "cell_type": "markdown",
   "metadata": {},
   "source": [
    "Memoization is a tool for optimizing high performence operations, by remembering input(s) and the outcome."
   ]
  },
  {
   "cell_type": "code",
   "execution_count": 16,
   "metadata": {},
   "outputs": [
    {
     "name": "stdout",
     "output_type": "stream",
     "text": [
      "Calculation 1: 16 after 5.000778913497925 sec.\n",
      "Calculation 2: 16 after 5.000429630279541 sec.\n",
      "Calculation 3: 16 after 0.00018715858459472656 sec.\n"
     ]
    }
   ],
   "source": [
    "import time\n",
    "\n",
    "save = {}\n",
    "    \n",
    "def heavyCalculation(a): #Without memoization  \n",
    "    time.sleep(5) #Simulates the heavy processing time this algorithm is needing\n",
    "    return a * a\n",
    "\n",
    "def heavyCalculationOptimized(a):\n",
    "    if a in save:\n",
    "        return save[a]\n",
    "    \n",
    "    time.sleep(5)\n",
    "    result = a * a\n",
    "    save[a] = result\n",
    "    return result\n",
    "\n",
    "start = time.time()\n",
    "print(\"Calculation 1: {} after {} sec.\".format(heavyCalculation(4),(time.time()-start)))\n",
    "\n",
    "start = time.time()\n",
    "print(\"Calculation 2: {} after {} sec.\".format(heavyCalculationOptimized(4),(time.time()-start)))\n",
    "\n",
    "start = time.time()\n",
    "print(\"Calculation 3: {} after {} sec.\".format(heavyCalculationOptimized(4),(time.time()-start)))"
   ]
  },
  {
   "cell_type": "markdown",
   "metadata": {},
   "source": [
    "## Thread/Threading (Basic)"
   ]
  },
  {
   "cell_type": "markdown",
   "metadata": {},
   "source": [
    "Threading can be used to provide mulittasking. there are several ways to do it. This is an fairly easy sample, where an function will be called for multithreading. "
   ]
  },
  {
   "cell_type": "code",
   "execution_count": 5,
   "metadata": {},
   "outputs": [
    {
     "name": "stdout",
     "output_type": "stream",
     "text": [
      "Ende\n",
      "\n",
      "Job B done!\n",
      "\n",
      "Job A done!\n",
      "\n"
     ]
    }
   ],
   "source": [
    "import time\n",
    "import threading\n",
    "\n",
    "def doJobA():\n",
    "    time.sleep(1)\n",
    "    print(\"Job A done!\\r\\n\")   \n",
    "    \n",
    "def doJobB():\n",
    "    time.sleep(0.5)\n",
    "    print(\"Job B done!\\r\\n\")  \n",
    "    \n",
    "t1 = threading.Thread(target = doJobA)\n",
    "t2 = threading.Thread(target = doJobB)\n",
    "\n",
    "t1.start()\n",
    "t2.start()\n",
    "\n",
    "print(\"Ende\\r\\n\")"
   ]
  },
  {
   "cell_type": "markdown",
   "metadata": {},
   "source": [
    "## Property Decorators - Getters, Setters and Deleters"
   ]
  },
  {
   "cell_type": "markdown",
   "metadata": {},
   "source": [
    "Using decorators from the beginning, can improve the backwards compatibility if things change with time. Defining Setters, Getters and Deleters with decorators is highly reccomended and as sooner as better. Normally in OOP you use getters and setters for private variables. Which can also be done in python, using the udnerscore for variable names like \"___a\"__ as a private variable. But his is not very pythonian. In python, we do not declare private variables. But than you get the question, how do you make setters and getters? And should you?__ IF a variable is not private, how could you make a user responsible for using a method to set that variable? Imagine, you want to set a variable only if it is even. If the variable is not private, you can change it whenever you want. Therefore we use property decorators to avoid that. "
   ]
  },
  {
   "cell_type": "markdown",
   "metadata": {},
   "source": [
    "Defining a Getter method"
   ]
  },
  {
   "cell_type": "code",
   "execution_count": 13,
   "metadata": {},
   "outputs": [],
   "source": [
    "value = None"
   ]
  },
  {
   "cell_type": "code",
   "execution_count": 14,
   "metadata": {},
   "outputs": [],
   "source": [
    "@property\n",
    "def sampleMethod(self):\n",
    "    return value #returning the value here"
   ]
  },
  {
   "cell_type": "markdown",
   "metadata": {},
   "source": [
    "Defining a Setter method:"
   ]
  },
  {
   "cell_type": "code",
   "execution_count": 23,
   "metadata": {},
   "outputs": [],
   "source": [
    "@sampleMethod.setter\n",
    "def sampleMethod(self):\n",
    "    value = \"Set\" #setting a value here"
   ]
  },
  {
   "cell_type": "markdown",
   "metadata": {},
   "source": [
    "Defining a Deleter method:"
   ]
  },
  {
   "cell_type": "code",
   "execution_count": 22,
   "metadata": {},
   "outputs": [],
   "source": [
    "@sampleMethod.deleter\n",
    "def sampleMethod(self):\n",
    "    value = None #Delete values etc. here"
   ]
  },
  {
   "cell_type": "markdown",
   "metadata": {},
   "source": [
    "In a complety class, it would look like:"
   ]
  },
  {
   "cell_type": "code",
   "execution_count": 24,
   "metadata": {},
   "outputs": [],
   "source": [
    "class Decorators:\n",
    "    def __init__(self, value):\n",
    "        self.value = value\n",
    "        \n",
    "    @property\n",
    "    def theValue(self):\n",
    "        return self.value\n",
    "    \n",
    "    @theValue.setter\n",
    "    def theValue(self, v):\n",
    "        self.value = v\n",
    "        \n",
    "    @theValue.deleter\n",
    "    def theValue(self):\n",
    "        self.value = None"
   ]
  },
  {
   "cell_type": "markdown",
   "metadata": {},
   "source": [
    "Now we have to call the class and use all three methods"
   ]
  },
  {
   "cell_type": "code",
   "execution_count": 31,
   "metadata": {},
   "outputs": [
    {
     "name": "stdout",
     "output_type": "stream",
     "text": [
      "40\n"
     ]
    }
   ],
   "source": [
    "obj = Decorators(40)\n",
    "print(obj.theValue)"
   ]
  },
  {
   "cell_type": "code",
   "execution_count": 32,
   "metadata": {},
   "outputs": [
    {
     "name": "stdout",
     "output_type": "stream",
     "text": [
      "50\n"
     ]
    }
   ],
   "source": [
    "obj.theValue = 50 #Important!! No () for setting the value\n",
    "print(obj.theValue)"
   ]
  },
  {
   "cell_type": "code",
   "execution_count": 34,
   "metadata": {},
   "outputs": [
    {
     "ename": "NameError",
     "evalue": "name 'theValue' is not defined",
     "output_type": "error",
     "traceback": [
      "\u001b[0;31m---------------------------------------------------------------------------\u001b[0m",
      "\u001b[0;31mNameError\u001b[0m                                 Traceback (most recent call last)",
      "\u001b[0;32m<ipython-input-34-453bc369433e>\u001b[0m in \u001b[0;36m<module>\u001b[0;34m\u001b[0m\n\u001b[0;32m----> 1\u001b[0;31m \u001b[0;32mdel\u001b[0m \u001b[0mtheValue\u001b[0m\u001b[0;34m\u001b[0m\u001b[0;34m\u001b[0m\u001b[0m\n\u001b[0m\u001b[1;32m      2\u001b[0m \u001b[0mprint\u001b[0m\u001b[0;34m(\u001b[0m\u001b[0mobj\u001b[0m\u001b[0;34m.\u001b[0m\u001b[0mtheValue\u001b[0m\u001b[0;34m)\u001b[0m\u001b[0;34m\u001b[0m\u001b[0;34m\u001b[0m\u001b[0m\n",
      "\u001b[0;31mNameError\u001b[0m: name 'theValue' is not defined"
     ]
    }
   ],
   "source": [
    "del theValue\n",
    "print(obj.theValue)"
   ]
  },
  {
   "cell_type": "markdown",
   "metadata": {},
   "source": [
    "## Context managers"
   ]
  },
  {
   "cell_type": "code",
   "execution_count": null,
   "metadata": {},
   "outputs": [],
   "source": []
  }
 ],
 "metadata": {
  "kernelspec": {
   "display_name": "Python 3",
   "language": "python",
   "name": "python3"
  },
  "language_info": {
   "codemirror_mode": {
    "name": "ipython",
    "version": 3
   },
   "file_extension": ".py",
   "mimetype": "text/x-python",
   "name": "python",
   "nbconvert_exporter": "python",
   "pygments_lexer": "ipython3",
   "version": "3.6.7"
  }
 },
 "nbformat": 4,
 "nbformat_minor": 2
}
