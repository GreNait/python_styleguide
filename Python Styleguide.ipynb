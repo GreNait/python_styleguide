{
 "cells": [
  {
   "cell_type": "markdown",
   "metadata": {},
   "source": [
    "# Python Styleguide"
   ]
  },
  {
   "cell_type": "markdown",
   "metadata": {},
   "source": [
    "This styleguide will explain many pyhtonian things and also show code samples. At the same time, it will also include helpful links like youtube tutorials etc."
   ]
  },
  {
   "cell_type": "markdown",
   "metadata": {},
   "source": [
    "## Lists, Dicts, Sets and best practice for it "
   ]
  },
  {
   "cell_type": "markdown",
   "metadata": {},
   "source": [
    "### List "
   ]
  },
  {
   "cell_type": "markdown",
   "metadata": {},
   "source": [
    "### Dictionary"
   ]
  },
  {
   "cell_type": "markdown",
   "metadata": {},
   "source": [
    "### Set"
   ]
  },
  {
   "cell_type": "code",
   "execution_count": 76,
   "metadata": {},
   "outputs": [],
   "source": [
    "nums = [1,1,2,3,4,3,2,2,5,6,6,7,8,7,9,7,10,9,6]"
   ]
  },
  {
   "cell_type": "code",
   "execution_count": 77,
   "metadata": {},
   "outputs": [
    {
     "name": "stdout",
     "output_type": "stream",
     "text": [
      "{1, 2, 3, 4, 5, 6, 7, 8, 9, 10}\n"
     ]
    }
   ],
   "source": [
    "my_set = set(nums)\n",
    "print(my_set)"
   ]
  },
  {
   "cell_type": "markdown",
   "metadata": {},
   "source": [
    "## Helpful tipps"
   ]
  },
  {
   "cell_type": "markdown",
   "metadata": {},
   "source": [
    "### Using underscores to make big numbers easier to read"
   ]
  },
  {
   "cell_type": "code",
   "execution_count": 4,
   "metadata": {},
   "outputs": [
    {
     "name": "stdout",
     "output_type": "stream",
     "text": [
      "1010000000\n"
     ]
    }
   ],
   "source": [
    "num1 = 1000000000\n",
    "num2 = 10000000\n",
    "\n",
    "total = num1 + num2\n",
    "print(total)"
   ]
  },
  {
   "cell_type": "code",
   "execution_count": 30,
   "metadata": {},
   "outputs": [
    {
     "name": "stdout",
     "output_type": "stream",
     "text": [
      "1010000000\n",
      "1,010,000,000\n"
     ]
    }
   ],
   "source": [
    "num1 = 1_000_000_000\n",
    "num2 = 10_000_000\n",
    "\n",
    "total = num1 + num2\n",
    "print(total)\n",
    "print(f'{total:,}')#With formatted f String"
   ]
  },
  {
   "cell_type": "markdown",
   "metadata": {},
   "source": [
    "### Clever unpacking"
   ]
  },
  {
   "cell_type": "code",
   "execution_count": 31,
   "metadata": {},
   "outputs": [
    {
     "name": "stdout",
     "output_type": "stream",
     "text": [
      "1\n",
      "2\n",
      "[3, 4, 5]\n"
     ]
    }
   ],
   "source": [
    "a, b, *c = (1,2,3,4,5)\n",
    "\n",
    "print(a)\n",
    "print(b)\n",
    "print(c)"
   ]
  },
  {
   "cell_type": "code",
   "execution_count": 33,
   "metadata": {},
   "outputs": [
    {
     "name": "stdout",
     "output_type": "stream",
     "text": [
      "1\n",
      "2\n"
     ]
    }
   ],
   "source": [
    "#If you want to ignore the last three values, you can use the *_ as a variable name\n",
    "a, b, *_ = (1,2,3,4,5)\n",
    "\n",
    "print(a)\n",
    "print(b)"
   ]
  },
  {
   "cell_type": "markdown",
   "metadata": {},
   "source": [
    "### Hiding inputs for passwords"
   ]
  },
  {
   "cell_type": "markdown",
   "metadata": {},
   "source": [
    "Wrong way:"
   ]
  },
  {
   "cell_type": "code",
   "execution_count": 54,
   "metadata": {},
   "outputs": [
    {
     "name": "stdout",
     "output_type": "stream",
     "text": [
      "Your name:Sebastian\n",
      "Your password:mypassword\n"
     ]
    }
   ],
   "source": [
    "name = input(\"Your name:\")\n",
    "password = input(\"Your password:\")"
   ]
  },
  {
   "cell_type": "markdown",
   "metadata": {},
   "source": [
    "Right way:"
   ]
  },
  {
   "cell_type": "code",
   "execution_count": 55,
   "metadata": {},
   "outputs": [
    {
     "name": "stdout",
     "output_type": "stream",
     "text": [
      "Your name:Sebastian\n",
      "Your password:········\n"
     ]
    }
   ],
   "source": [
    "from getpass import getpass\n",
    "\n",
    "name = input(\"Your name:\")\n",
    "password = getpass(\"Your password:\")"
   ]
  },
  {
   "cell_type": "markdown",
   "metadata": {},
   "source": [
    "### Using setattr and getattr for dynamically set attributes to an object and also to get them"
   ]
  },
  {
   "cell_type": "markdown",
   "metadata": {},
   "source": [
    "We are generating a class as an emtpy object for adding later dynamically attributes to it"
   ]
  },
  {
   "cell_type": "code",
   "execution_count": 43,
   "metadata": {},
   "outputs": [],
   "source": [
    "class Person():\n",
    "    pass\n",
    "\n",
    "person = Person()\n",
    "\n",
    "first_key = 'first'\n",
    "first_val = 'Sebastian'"
   ]
  },
  {
   "cell_type": "code",
   "execution_count": 44,
   "metadata": {},
   "outputs": [
    {
     "name": "stdout",
     "output_type": "stream",
     "text": [
      "Sebastian\n"
     ]
    }
   ],
   "source": [
    "setattr(person, first_key, first_val)\n",
    "print(person.first)"
   ]
  },
  {
   "cell_type": "code",
   "execution_count": 46,
   "metadata": {},
   "outputs": [
    {
     "name": "stdout",
     "output_type": "stream",
     "text": [
      "Sebastian\n"
     ]
    }
   ],
   "source": [
    "first = getattr(person, first_key)\n",
    "print(first)"
   ]
  },
  {
   "cell_type": "markdown",
   "metadata": {},
   "source": [
    "We can now also iterate through a list and add the list key and items to the object dynamically"
   ]
  },
  {
   "cell_type": "code",
   "execution_count": 48,
   "metadata": {},
   "outputs": [],
   "source": [
    "person = Person()"
   ]
  },
  {
   "cell_type": "code",
   "execution_count": 52,
   "metadata": {},
   "outputs": [
    {
     "name": "stdout",
     "output_type": "stream",
     "text": [
      "Sebi\n",
      "Voegele\n"
     ]
    }
   ],
   "source": [
    "person_info = {'first':'Sebi','last':'Voegele'}\n",
    "\n",
    "for key, value in person_info.items():\n",
    "    setattr(person,key,value)\n",
    "    \n",
    "print(person.first)\n",
    "print(person.last)"
   ]
  },
  {
   "cell_type": "markdown",
   "metadata": {},
   "source": [
    "It is now also possible to iterate through the keys"
   ]
  },
  {
   "cell_type": "code",
   "execution_count": 53,
   "metadata": {},
   "outputs": [
    {
     "name": "stdout",
     "output_type": "stream",
     "text": [
      "Sebi\n",
      "Voegele\n"
     ]
    }
   ],
   "source": [
    "for key in person_info.keys():\n",
    "    print(getattr(person, key))"
   ]
  },
  {
   "cell_type": "markdown",
   "metadata": {},
   "source": [
    "## General considerations regarding if statements, loops, etc. "
   ]
  },
  {
   "cell_type": "markdown",
   "metadata": {},
   "source": [
    "There are several ways to make a good if/else-,while, for-statments. Non the less, the following structure should be implemented, to have consistency and a better understandable code."
   ]
  },
  {
   "cell_type": "markdown",
   "metadata": {},
   "source": [
    "### Starting with the if statement. Using ternary statments."
   ]
  },
  {
   "cell_type": "code",
   "execution_count": 1,
   "metadata": {},
   "outputs": [
    {
     "name": "stdout",
     "output_type": "stream",
     "text": [
      "1\n"
     ]
    }
   ],
   "source": [
    "#Old way\n",
    "condition = True\n",
    "\n",
    "if condition:\n",
    "    x = 1\n",
    "else:\n",
    "    x = 0\n",
    "    \n",
    "print(x)"
   ]
  },
  {
   "cell_type": "markdown",
   "metadata": {},
   "source": [
    "Using ternary statements makes less code, but the overall goal is to have better readable code in the long shot."
   ]
  },
  {
   "cell_type": "code",
   "execution_count": 3,
   "metadata": {},
   "outputs": [
    {
     "name": "stdout",
     "output_type": "stream",
     "text": [
      "1\n"
     ]
    }
   ],
   "source": [
    "#Better way with ternary condition\n",
    "condition = True\n",
    "\n",
    "x = 1 if condition else 0\n",
    "\n",
    "print(x)\n"
   ]
  },
  {
   "cell_type": "markdown",
   "metadata": {},
   "source": [
    "### Making a better count inside for loops"
   ]
  },
  {
   "cell_type": "code",
   "execution_count": 83,
   "metadata": {},
   "outputs": [],
   "source": [
    "names = ['Sebi','Andi','Stefan']"
   ]
  },
  {
   "cell_type": "code",
   "execution_count": 8,
   "metadata": {},
   "outputs": [
    {
     "name": "stdout",
     "output_type": "stream",
     "text": [
      "0 Sebi\n",
      "1 Andi\n",
      "2 Stefan\n"
     ]
    }
   ],
   "source": [
    "#Old way\n",
    "index = 0\n",
    "for name in names:\n",
    "    print(index, name)\n",
    "    index+=1"
   ]
  },
  {
   "cell_type": "code",
   "execution_count": 13,
   "metadata": {},
   "outputs": [
    {
     "name": "stdout",
     "output_type": "stream",
     "text": [
      "1 Sebi\n",
      "2 Andi\n",
      "3 Stefan\n"
     ]
    }
   ],
   "source": [
    "#Better way, using the enumerate function\n",
    "for index, name in enumerate(names, start = 1): #start provides the start index; default = 0\n",
    "    print(index, name)"
   ]
  },
  {
   "cell_type": "markdown",
   "metadata": {},
   "source": [
    "You can also do this in a comprehension, for a dictionary, set, list. We make an dictionary, no reason for that."
   ]
  },
  {
   "cell_type": "code",
   "execution_count": 84,
   "metadata": {},
   "outputs": [
    {
     "name": "stdout",
     "output_type": "stream",
     "text": [
      "{1: 'Sebi', 2: 'Andi', 3: 'Stefan'}\n"
     ]
    }
   ],
   "source": [
    "index_name = {index:name for index,name in enumerate(names, start = 1)}\n",
    "print(index_name)"
   ]
  },
  {
   "cell_type": "markdown",
   "metadata": {},
   "source": [
    "### Loop over two lists at the same time using the zip function"
   ]
  },
  {
   "cell_type": "code",
   "execution_count": 28,
   "metadata": {},
   "outputs": [],
   "source": [
    "names = ['Peter Parker','Clakr Kent','Wade Wilson','Bruce Wayne','Tony Stark']\n",
    "heroes = ['Spiderman','Superman','Deadpool','Batman']"
   ]
  },
  {
   "cell_type": "code",
   "execution_count": 29,
   "metadata": {},
   "outputs": [
    {
     "name": "stdout",
     "output_type": "stream",
     "text": [
      "Peter Parker is actually Spiderman\n",
      "Clakr Kent is actually Superman\n",
      "Wade Wilson is actually Deadpool\n",
      "Bruce Wayne is actually Batman\n"
     ]
    }
   ],
   "source": [
    "for name, hero in zip(names, heroes):\n",
    "    print(f'{name} is actually {hero}')"
   ]
  },
  {
   "cell_type": "markdown",
   "metadata": {},
   "source": [
    "Worth noticting: Even if the lists are \"uneven\" you do not get an error and you go thoruhg the list, until one of them is at the end. There is a zip longest function in the iter libary."
   ]
  },
  {
   "cell_type": "markdown",
   "metadata": {},
   "source": [
    "### List comprehensions"
   ]
  },
  {
   "cell_type": "markdown",
   "metadata": {},
   "source": [
    "Let us first look at lists with a for loop"
   ]
  },
  {
   "cell_type": "code",
   "execution_count": 56,
   "metadata": {},
   "outputs": [],
   "source": [
    "nums = [1,2,3,4,5,6,7,8,9,10]"
   ]
  },
  {
   "cell_type": "code",
   "execution_count": 58,
   "metadata": {},
   "outputs": [
    {
     "name": "stdout",
     "output_type": "stream",
     "text": [
      "[1, 2, 3, 4, 5, 6, 7, 8, 9, 10]\n"
     ]
    }
   ],
   "source": [
    "my_list = []\n",
    "for n in nums:\n",
    "    my_list.append(n)\n",
    "print(my_list)"
   ]
  },
  {
   "cell_type": "markdown",
   "metadata": {},
   "source": [
    "Now let us take a look at a list comprehension"
   ]
  },
  {
   "cell_type": "code",
   "execution_count": 60,
   "metadata": {},
   "outputs": [
    {
     "name": "stdout",
     "output_type": "stream",
     "text": [
      "[1, 2, 3, 4, 5, 6, 7, 8, 9, 10]\n"
     ]
    }
   ],
   "source": [
    "my_list = [n for n in nums]\n",
    "print(my_list)"
   ]
  },
  {
   "cell_type": "markdown",
   "metadata": {},
   "source": [
    "A little bit more complex comprehension. Imagine, we want to have the square of an item in a new list. Like n = n*n for each n"
   ]
  },
  {
   "cell_type": "code",
   "execution_count": 61,
   "metadata": {},
   "outputs": [
    {
     "name": "stdout",
     "output_type": "stream",
     "text": [
      "[1, 4, 9, 16, 25, 36, 49, 64, 81, 100]\n"
     ]
    }
   ],
   "source": [
    "my_list = [n*n for n in nums]\n",
    "print(my_list)"
   ]
  },
  {
   "cell_type": "markdown",
   "metadata": {},
   "source": [
    "Now, let us assume we only want to have the even numbers. We can easily use the modulo operator for that. (%)"
   ]
  },
  {
   "cell_type": "code",
   "execution_count": 64,
   "metadata": {},
   "outputs": [
    {
     "name": "stdout",
     "output_type": "stream",
     "text": [
      "[2, 4, 6, 8, 10]\n"
     ]
    }
   ],
   "source": [
    "my_list = [n for n in nums if n%2 == 0]\n",
    "print(my_list)"
   ]
  },
  {
   "cell_type": "markdown",
   "metadata": {},
   "source": [
    "We can generate even more complexe functions. First, let us imagine that we want to pair letters with numbers. Like: 'abcd' transformed to a:0, a:1, a:2, a:3, b:0,b:1, ..."
   ]
  },
  {
   "cell_type": "markdown",
   "metadata": {},
   "source": [
    "The old way:"
   ]
  },
  {
   "cell_type": "code",
   "execution_count": 65,
   "metadata": {},
   "outputs": [
    {
     "name": "stdout",
     "output_type": "stream",
     "text": [
      "[('a', 0), ('a', 1), ('a', 2), ('a', 3), ('b', 0), ('b', 1), ('b', 2), ('b', 3), ('c', 0), ('c', 1), ('c', 2), ('c', 3), ('d', 0), ('d', 1), ('d', 2), ('d', 3)]\n"
     ]
    }
   ],
   "source": [
    "my_list = []\n",
    "for letter in 'abcd':\n",
    "    for num in range(4):\n",
    "        my_list.append((letter,num))\n",
    "print(my_list)"
   ]
  },
  {
   "cell_type": "markdown",
   "metadata": {},
   "source": [
    "The better way:"
   ]
  },
  {
   "cell_type": "code",
   "execution_count": 66,
   "metadata": {},
   "outputs": [
    {
     "name": "stdout",
     "output_type": "stream",
     "text": [
      "[('a', 0), ('a', 1), ('a', 2), ('a', 3), ('b', 0), ('b', 1), ('b', 2), ('b', 3), ('c', 0), ('c', 1), ('c', 2), ('c', 3), ('d', 0), ('d', 1), ('d', 2), ('d', 3)]\n"
     ]
    }
   ],
   "source": [
    "my_list = [(letter,num) for letter in 'abcd' for num in range(4)]\n",
    "print(my_list)"
   ]
  },
  {
   "cell_type": "markdown",
   "metadata": {},
   "source": [
    "### Dictionary comprehension"
   ]
  },
  {
   "cell_type": "markdown",
   "metadata": {},
   "source": [
    "We can also use comprehensions for dictionarys"
   ]
  },
  {
   "cell_type": "code",
   "execution_count": 78,
   "metadata": {},
   "outputs": [],
   "source": [
    "names = ['Peter Parker','Clark Kent','Wade Wilson','Bruce Wayne','Tony Stark']\n",
    "heroes = ['Spiderman','Superman','Deadpool','Batman']"
   ]
  },
  {
   "cell_type": "markdown",
   "metadata": {},
   "source": [
    "The old way:"
   ]
  },
  {
   "cell_type": "code",
   "execution_count": 79,
   "metadata": {},
   "outputs": [
    {
     "name": "stdout",
     "output_type": "stream",
     "text": [
      "{'Peter Parker': 'Spiderman', 'Clark Kent': 'Superman', 'Wade Wilson': 'Deadpool', 'Bruce Wayne': 'Batman'}\n"
     ]
    }
   ],
   "source": [
    "my_dict = {}\n",
    "for name, hero in zip(names,heroes):\n",
    "    my_dict[name] = hero\n",
    "print(my_dict)"
   ]
  },
  {
   "cell_type": "markdown",
   "metadata": {},
   "source": [
    "The new way:"
   ]
  },
  {
   "cell_type": "code",
   "execution_count": 80,
   "metadata": {},
   "outputs": [
    {
     "name": "stdout",
     "output_type": "stream",
     "text": [
      "{'Peter Parker': 'Spiderman', 'Clark Kent': 'Superman', 'Wade Wilson': 'Deadpool', 'Bruce Wayne': 'Batman'}\n"
     ]
    }
   ],
   "source": [
    "my_dict = {name:hero for name,hero in zip(names,heroes)}\n",
    "print(my_dict)"
   ]
  },
  {
   "cell_type": "markdown",
   "metadata": {},
   "source": [
    "## Named tuples"
   ]
  },
  {
   "cell_type": "markdown",
   "metadata": {},
   "source": [
    "A named tuple is the perfect fit between a tuple and a dictionary and can therefore be helpful for more readable code"
   ]
  },
  {
   "cell_type": "markdown",
   "metadata": {},
   "source": [
    "Using a tuple is easy and fast. But it is not easy to read, what the \"indicies\" represent. A \"0\" is red in this case, but this might me difficult to find out with the first glance."
   ]
  },
  {
   "cell_type": "code",
   "execution_count": 41,
   "metadata": {},
   "outputs": [
    {
     "name": "stdout",
     "output_type": "stream",
     "text": [
      "55\n"
     ]
    }
   ],
   "source": [
    "#normal tuple\n",
    "color = (55,100,200)\n",
    "\n",
    "#print the red color\n",
    "print(color[0])"
   ]
  },
  {
   "cell_type": "markdown",
   "metadata": {},
   "source": [
    "We could use a dictionary for having easier to read access to the RGB values. But, we choosed a tuple in the first place for a reason. A dict is more effort to write, and it is mutable. Which we don't like (in this case)"
   ]
  },
  {
   "cell_type": "code",
   "execution_count": 42,
   "metadata": {},
   "outputs": [
    {
     "name": "stdout",
     "output_type": "stream",
     "text": [
      "55\n"
     ]
    }
   ],
   "source": [
    "#using a dictionary\n",
    "color = {'red':55,'green':100,'blue':200}\n",
    "print(color['red'])"
   ]
  },
  {
   "cell_type": "markdown",
   "metadata": {},
   "source": [
    "We can overcome this problem, by using a named tuple"
   ]
  },
  {
   "cell_type": "code",
   "execution_count": 45,
   "metadata": {},
   "outputs": [
    {
     "name": "stdout",
     "output_type": "stream",
     "text": [
      "55\n",
      "55\n"
     ]
    }
   ],
   "source": [
    "from collections import namedtuple\n",
    "\n",
    "Color = namedtuple('Color',['red','green','blue'])\n",
    "color = Color(55,100,200)\n",
    "\n",
    "print(color.red)\n",
    "print(color[0])"
   ]
  },
  {
   "cell_type": "markdown",
   "metadata": {},
   "source": [
    "## String interpolation "
   ]
  },
  {
   "cell_type": "markdown",
   "metadata": {},
   "source": [
    "String interpolation is used, to easier build up Strings. A String concatenation is alsways requrieing all variables to be Strings. So interpolation can help you avoiding this"
   ]
  },
  {
   "cell_type": "code",
   "execution_count": 36,
   "metadata": {},
   "outputs": [],
   "source": [
    "name = \"Sebastian\"\n",
    "age = 30"
   ]
  },
  {
   "cell_type": "code",
   "execution_count": 37,
   "metadata": {},
   "outputs": [
    {
     "name": "stdout",
     "output_type": "stream",
     "text": [
      "My name is: Sebastian and I am 30 years old\n"
     ]
    }
   ],
   "source": [
    "#Concatenation\n",
    "sentence = \"My name is: \"+ name + \" and I am \" + str(age) + \" years old\"\n",
    "print(sentence)"
   ]
  },
  {
   "cell_type": "code",
   "execution_count": 39,
   "metadata": {},
   "outputs": [
    {
     "name": "stdout",
     "output_type": "stream",
     "text": [
      "My name is Sebastian and I am 30 years old\n"
     ]
    }
   ],
   "source": [
    "#Interpolation\n",
    "sentence = \"My name is {} and I am {} years old\".format(name,age)\n",
    "print(sentence)"
   ]
  },
  {
   "cell_type": "code",
   "execution_count": 40,
   "metadata": {},
   "outputs": [
    {
     "name": "stdout",
     "output_type": "stream",
     "text": [
      "My name is Sebastian and I am 30 years old\n"
     ]
    }
   ],
   "source": [
    "#Interpolation second variation\n",
    "sentence = \"My name is {n} and I am {a} years old\".format(a = age, n = name)\n",
    "print(sentence)"
   ]
  },
  {
   "cell_type": "markdown",
   "metadata": {},
   "source": [
    "## Magic&Dunder Methods "
   ]
  },
  {
   "cell_type": "markdown",
   "metadata": {},
   "source": [
    "Magic and & Dunder Method help using classes in an easier way for users. You can define special methods like len(),str() etc. for an class and therefore can use these methods easily if needed with that object.\n"
   ]
  },
  {
   "cell_type": "markdown",
   "metadata": {},
   "source": [
    "The __init__() method is the constructor. Do not be confuse it with the __new__() method."
   ]
  },
  {
   "cell_type": "code",
   "execution_count": 1,
   "metadata": {},
   "outputs": [],
   "source": [
    "def __init__(self):\n",
    "    pass"
   ]
  },
  {
   "cell_type": "markdown",
   "metadata": {},
   "source": [
    "If you use the __str__() method, you can use the special function str() on this object. It behaves a bit like the toString method in Java. Is is highly suggested to use __str__() for better usage later on."
   ]
  },
  {
   "cell_type": "code",
   "execution_count": 2,
   "metadata": {},
   "outputs": [],
   "source": [
    "def __str__(self):\n",
    "    pass"
   ]
  },
  {
   "cell_type": "markdown",
   "metadata": {},
   "source": [
    "__repr__() is basically the \"developer\" version for __str__(). If Many developers use the code, it is reccomended to use this method. The problem is, that we do not know how to make a clear difference when to use __str__() or __repr__(). The overlap each other."
   ]
  },
  {
   "cell_type": "code",
   "execution_count": 3,
   "metadata": {},
   "outputs": [],
   "source": [
    "def __repr__(self):\n",
    "    pass"
   ]
  },
  {
   "cell_type": "markdown",
   "metadata": {},
   "source": [
    "__len__() should be self explaining."
   ]
  },
  {
   "cell_type": "code",
   "execution_count": 4,
   "metadata": {},
   "outputs": [],
   "source": [
    "def __len__(self):\n",
    "    pass"
   ]
  },
  {
   "cell_type": "markdown",
   "metadata": {},
   "source": [
    "## Memoization"
   ]
  },
  {
   "cell_type": "markdown",
   "metadata": {},
   "source": [
    "Memoization is a tool for optimizing high performence operations, by remembering input(s) and the outcome."
   ]
  },
  {
   "cell_type": "code",
   "execution_count": 16,
   "metadata": {},
   "outputs": [
    {
     "name": "stdout",
     "output_type": "stream",
     "text": [
      "Calculation 1: 16 after 5.000778913497925 sec.\n",
      "Calculation 2: 16 after 5.000429630279541 sec.\n",
      "Calculation 3: 16 after 0.00018715858459472656 sec.\n"
     ]
    }
   ],
   "source": [
    "import time\n",
    "\n",
    "save = {}\n",
    "    \n",
    "def heavyCalculation(a): #Without memoization  \n",
    "    time.sleep(5) #Simulates the heavy processing time this algorithm is needing\n",
    "    return a * a\n",
    "\n",
    "def heavyCalculationOptimized(a):\n",
    "    if a in save:\n",
    "        return save[a]\n",
    "    \n",
    "    time.sleep(5)\n",
    "    result = a * a\n",
    "    save[a] = result\n",
    "    return result\n",
    "\n",
    "start = time.time()\n",
    "print(\"Calculation 1: {} after {} sec.\".format(heavyCalculation(4),(time.time()-start)))\n",
    "\n",
    "start = time.time()\n",
    "print(\"Calculation 2: {} after {} sec.\".format(heavyCalculationOptimized(4),(time.time()-start)))\n",
    "\n",
    "start = time.time()\n",
    "print(\"Calculation 3: {} after {} sec.\".format(heavyCalculationOptimized(4),(time.time()-start)))"
   ]
  },
  {
   "cell_type": "markdown",
   "metadata": {},
   "source": [
    "## Thread/Threading (Basic)"
   ]
  },
  {
   "cell_type": "markdown",
   "metadata": {},
   "source": [
    "Threading can be used to provide mulittasking. there are several ways to do it. This is an fairly easy sample, where an function will be called for multithreading. "
   ]
  },
  {
   "cell_type": "code",
   "execution_count": 5,
   "metadata": {},
   "outputs": [
    {
     "name": "stdout",
     "output_type": "stream",
     "text": [
      "Ende\n",
      "\n",
      "Job B done!\n",
      "\n",
      "Job A done!\n",
      "\n"
     ]
    }
   ],
   "source": [
    "import time\n",
    "import threading\n",
    "\n",
    "def doJobA():\n",
    "    time.sleep(1)\n",
    "    print(\"Job A done!\\r\\n\")   \n",
    "    \n",
    "def doJobB():\n",
    "    time.sleep(0.5)\n",
    "    print(\"Job B done!\\r\\n\")  \n",
    "    \n",
    "t1 = threading.Thread(target = doJobA)\n",
    "t2 = threading.Thread(target = doJobB)\n",
    "\n",
    "t1.start()\n",
    "t2.start()\n",
    "\n",
    "print(\"Ende\\r\\n\")"
   ]
  },
  {
   "cell_type": "markdown",
   "metadata": {},
   "source": [
    "## Property Decorators - Getters, Setters and Deleters"
   ]
  },
  {
   "cell_type": "markdown",
   "metadata": {},
   "source": [
    "Using decorators from the beginning, can improve the backwards compatibility if things change with time. Defining Setters, Getters and Deleters with decorators is highly reccomended and as sooner as better. Normally in OOP you use getters and setters for private variables. Which can also be done in python, using the udnerscore for variable names like \"___a\"__ as a private variable. But his is not very pythonian. In python, we do not declare private variables. But than you get the question, how do you make setters and getters? And should you?__ IF a variable is not private, how could you make a user responsible for using a method to set that variable? Imagine, you want to set a variable only if it is even. If the variable is not private, you can change it whenever you want. Therefore we use property decorators to avoid that. "
   ]
  },
  {
   "cell_type": "markdown",
   "metadata": {},
   "source": [
    "Defining a Getter method"
   ]
  },
  {
   "cell_type": "code",
   "execution_count": 13,
   "metadata": {},
   "outputs": [],
   "source": [
    "value = None"
   ]
  },
  {
   "cell_type": "code",
   "execution_count": 14,
   "metadata": {},
   "outputs": [],
   "source": [
    "@property\n",
    "def sampleMethod(self):\n",
    "    return value #returning the value here"
   ]
  },
  {
   "cell_type": "markdown",
   "metadata": {},
   "source": [
    "Defining a Setter method:"
   ]
  },
  {
   "cell_type": "code",
   "execution_count": 23,
   "metadata": {},
   "outputs": [],
   "source": [
    "@sampleMethod.setter\n",
    "def sampleMethod(self):\n",
    "    value = \"Set\" #setting a value here"
   ]
  },
  {
   "cell_type": "markdown",
   "metadata": {},
   "source": [
    "Defining a Deleter method:"
   ]
  },
  {
   "cell_type": "code",
   "execution_count": 22,
   "metadata": {},
   "outputs": [],
   "source": [
    "@sampleMethod.deleter\n",
    "def sampleMethod(self):\n",
    "    value = None #Delete values etc. here"
   ]
  },
  {
   "cell_type": "markdown",
   "metadata": {},
   "source": [
    "In a complety class, it would look like:"
   ]
  },
  {
   "cell_type": "code",
   "execution_count": 24,
   "metadata": {},
   "outputs": [],
   "source": [
    "class Decorators:\n",
    "    def __init__(self, value):\n",
    "        self.value = value\n",
    "        \n",
    "    @property\n",
    "    def theValue(self):\n",
    "        return self.value\n",
    "    \n",
    "    @theValue.setter\n",
    "    def theValue(self, v):\n",
    "        self.value = v\n",
    "        \n",
    "    @theValue.deleter\n",
    "    def theValue(self):\n",
    "        self.value = None"
   ]
  },
  {
   "cell_type": "markdown",
   "metadata": {},
   "source": [
    "Now we have to call the class and use all three methods"
   ]
  },
  {
   "cell_type": "code",
   "execution_count": 31,
   "metadata": {},
   "outputs": [
    {
     "name": "stdout",
     "output_type": "stream",
     "text": [
      "40\n"
     ]
    }
   ],
   "source": [
    "obj = Decorators(40)\n",
    "print(obj.theValue)"
   ]
  },
  {
   "cell_type": "code",
   "execution_count": 32,
   "metadata": {},
   "outputs": [
    {
     "name": "stdout",
     "output_type": "stream",
     "text": [
      "50\n"
     ]
    }
   ],
   "source": [
    "obj.theValue = 50 #Important!! No () for setting the value\n",
    "print(obj.theValue)"
   ]
  },
  {
   "cell_type": "code",
   "execution_count": 34,
   "metadata": {},
   "outputs": [
    {
     "ename": "NameError",
     "evalue": "name 'theValue' is not defined",
     "output_type": "error",
     "traceback": [
      "\u001b[0;31m---------------------------------------------------------------------------\u001b[0m",
      "\u001b[0;31mNameError\u001b[0m                                 Traceback (most recent call last)",
      "\u001b[0;32m<ipython-input-34-453bc369433e>\u001b[0m in \u001b[0;36m<module>\u001b[0;34m\u001b[0m\n\u001b[0;32m----> 1\u001b[0;31m \u001b[0;32mdel\u001b[0m \u001b[0mtheValue\u001b[0m\u001b[0;34m\u001b[0m\u001b[0;34m\u001b[0m\u001b[0m\n\u001b[0m\u001b[1;32m      2\u001b[0m \u001b[0mprint\u001b[0m\u001b[0;34m(\u001b[0m\u001b[0mobj\u001b[0m\u001b[0;34m.\u001b[0m\u001b[0mtheValue\u001b[0m\u001b[0;34m)\u001b[0m\u001b[0;34m\u001b[0m\u001b[0;34m\u001b[0m\u001b[0m\n",
      "\u001b[0;31mNameError\u001b[0m: name 'theValue' is not defined"
     ]
    }
   ],
   "source": [
    "del theValue\n",
    "print(obj.theValue)"
   ]
  },
  {
   "cell_type": "markdown",
   "metadata": {},
   "source": [
    "## Context managers"
   ]
  },
  {
   "cell_type": "code",
   "execution_count": null,
   "metadata": {},
   "outputs": [],
   "source": []
  },
  {
   "cell_type": "markdown",
   "metadata": {},
   "source": [
    "## Generators"
   ]
  },
  {
   "cell_type": "code",
   "execution_count": null,
   "metadata": {},
   "outputs": [],
   "source": []
  }
 ],
 "metadata": {
  "kernelspec": {
   "display_name": "Python 3",
   "language": "python",
   "name": "python3"
  },
  "language_info": {
   "codemirror_mode": {
    "name": "ipython",
    "version": 3
   },
   "file_extension": ".py",
   "mimetype": "text/x-python",
   "name": "python",
   "nbconvert_exporter": "python",
   "pygments_lexer": "ipython3",
   "version": "3.7.3"
  }
 },
 "nbformat": 4,
 "nbformat_minor": 2
}
