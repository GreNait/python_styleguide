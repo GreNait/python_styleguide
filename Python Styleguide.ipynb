{
 "cells": [
  {
   "cell_type": "markdown",
   "metadata": {},
   "source": [
    "# Python Styleguide"
   ]
  },
  {
   "cell_type": "markdown",
   "metadata": {},
   "source": [
    "This styleguide will explain many pyhtonian things and also show code samples. At the same time, it will also include helpful links like youtube tutorials etc."
   ]
  },
  {
   "cell_type": "markdown",
   "metadata": {},
   "source": [
    "## Setting up an python project \"the right way\""
   ]
  },
  {
   "cell_type": "markdown",
   "metadata": {},
   "source": [
    "Don't forget the .gitignore file including all the folders/files which should not be including in the git repo. Looking like:"
   ]
  },
  {
   "cell_type": "raw",
   "metadata": {},
   "source": [
    ".vscode/*\n",
    "!.vscode/settings.json\n",
    "!.vscode/tasks.json\n",
    "!.vscode/launch.json\n",
    "!.vscode/extensions.json"
   ]
  },
  {
   "cell_type": "markdown",
   "metadata": {},
   "source": [
    "## Using Anaconda \"the right way\""
   ]
  },
  {
   "cell_type": "markdown",
   "metadata": {},
   "source": [
    "Using anaconda makes sense, to have a virutal enviroment. It would be easier to share, reproduce and freeze a certain status of a programm. \n",
    "The problem facing is, how to properly install a env with anaconda so that you can find your own modules (perhaps nested in folders) in any kind of IDE|Editor? Just follow this commands."
   ]
  },
  {
   "cell_type": "markdown",
   "metadata": {},
   "source": [
    "First install anaconda. And please take care that you also install conda-build. Which is needed for the conda develop function."
   ]
  },
  {
   "cell_type": "markdown",
   "metadata": {},
   "source": [
    "Now we have some helpful conda commands:"
   ]
  },
  {
   "cell_type": "markdown",
   "metadata": {},
   "source": [
    "conda list"
   ]
  },
  {
   "cell_type": "markdown",
   "metadata": {},
   "source": [
    "conda env list"
   ]
  },
  {
   "cell_type": "markdown",
   "metadata": {},
   "source": [
    "conda --help"
   ]
  },
  {
   "cell_type": "markdown",
   "metadata": {},
   "source": [
    "conda create -n [env name] python=3.7.3 [packages] #Note, not specifying python will lead vscode to not find that interpreter."
   ]
  },
  {
   "cell_type": "markdown",
   "metadata": {},
   "source": [
    "conda develop [path to modules] #This will add the project to the env site packages so that imports will work"
   ]
  },
  {
   "cell_type": "markdown",
   "metadata": {},
   "source": [
    "conda list -e > requirements.txt #Save all the info about packages to your folder"
   ]
  },
  {
   "cell_type": "markdown",
   "metadata": {},
   "source": [
    "conda env create -f [env-name].yml #For other person to use the environment"
   ]
  },
  {
   "cell_type": "markdown",
   "metadata": {},
   "source": [
    "## Magic&Dunder Methods "
   ]
  },
  {
   "cell_type": "markdown",
   "metadata": {},
   "source": [
    "Magic and & Dunder Method help using classes in an easier way for users. You can define special methods like len(),str() etc. for an class and therefore can use these methods easily if needed with that object.\n"
   ]
  },
  {
   "cell_type": "markdown",
   "metadata": {},
   "source": [
    "The __init__() method is the constructor. Do not be confuse it with the __new__() method."
   ]
  },
  {
   "cell_type": "code",
   "execution_count": 1,
   "metadata": {},
   "outputs": [],
   "source": [
    "def __init__(self):\n",
    "    pass"
   ]
  },
  {
   "cell_type": "markdown",
   "metadata": {},
   "source": [
    "If you use the __str__() method, you can use the special function str() on this object. It behaves a bit like the toString method in Java. Is is highly suggested to use __str__() for better usage later on."
   ]
  },
  {
   "cell_type": "code",
   "execution_count": 2,
   "metadata": {},
   "outputs": [],
   "source": [
    "def __str__(self):\n",
    "    pass"
   ]
  },
  {
   "cell_type": "markdown",
   "metadata": {},
   "source": [
    "__repr__() is basically the \"developer\" version for __str__(). If Many developers use the code, it is reccomended to use this method. The problem is, that we do not know how to make a clear difference when to use __str__() or __repr__(). The overlap each other."
   ]
  },
  {
   "cell_type": "code",
   "execution_count": 3,
   "metadata": {},
   "outputs": [],
   "source": [
    "def __repr__(self):\n",
    "    pass"
   ]
  },
  {
   "cell_type": "code",
   "execution_count": null,
   "metadata": {},
   "outputs": [],
   "source": []
  },
  {
   "cell_type": "markdown",
   "metadata": {},
   "source": [
    "__len__() should be self explaining."
   ]
  },
  {
   "cell_type": "code",
   "execution_count": 4,
   "metadata": {},
   "outputs": [],
   "source": [
    "def __len__(self):\n",
    "    pass"
   ]
  },
  {
   "cell_type": "markdown",
   "metadata": {},
   "source": [
    "## Memoization"
   ]
  },
  {
   "cell_type": "code",
   "execution_count": 16,
   "metadata": {},
   "outputs": [
    {
     "name": "stdout",
     "output_type": "stream",
     "text": [
      "Calculation 1: 16 after 5.000778913497925 sec.\n",
      "Calculation 2: 16 after 5.000429630279541 sec.\n",
      "Calculation 3: 16 after 0.00018715858459472656 sec.\n"
     ]
    }
   ],
   "source": [
    "import time\n",
    "\n",
    "save = {}\n",
    "    \n",
    "def heavyCalculation(a): #Without memoization  \n",
    "    time.sleep(5) #Simulates the heavy processing time this algorithm is needing\n",
    "    return a * a\n",
    "\n",
    "def heavyCalculationOptimized(a):\n",
    "    if a in save:\n",
    "        return save[a]\n",
    "    \n",
    "    time.sleep(5)\n",
    "    result = a * a\n",
    "    save[a] = result\n",
    "    return result\n",
    "\n",
    "start = time.time()\n",
    "print(\"Calculation 1: {} after {} sec.\".format(heavyCalculation(4),(time.time()-start)))\n",
    "\n",
    "start = time.time()\n",
    "print(\"Calculation 2: {} after {} sec.\".format(heavyCalculationOptimized(4),(time.time()-start)))\n",
    "\n",
    "start = time.time()\n",
    "print(\"Calculation 3: {} after {} sec.\".format(heavyCalculationOptimized(4),(time.time()-start)))"
   ]
  },
  {
   "cell_type": "markdown",
   "metadata": {},
   "source": [
    "## Thread/Threading (Basic)"
   ]
  },
  {
   "cell_type": "markdown",
   "metadata": {},
   "source": [
    "Threading can be used to provide mulittasking. there are several ways to do it. This is an fairly easy sample, where an function will be called for multithreading. "
   ]
  },
  {
   "cell_type": "code",
   "execution_count": 5,
   "metadata": {},
   "outputs": [
    {
     "name": "stdout",
     "output_type": "stream",
     "text": [
      "Ende\n",
      "\n",
      "Job B done!\n",
      "\n",
      "Job A done!\n",
      "\n"
     ]
    }
   ],
   "source": [
    "import time\n",
    "import threading\n",
    "\n",
    "def doJobA():\n",
    "    time.sleep(1)\n",
    "    print(\"Job A done!\\r\\n\")   \n",
    "    \n",
    "def doJobB():\n",
    "    time.sleep(0.5)\n",
    "    print(\"Job B done!\\r\\n\")  \n",
    "    \n",
    "t1 = threading.Thread(target = doJobA)\n",
    "t2 = threading.Thread(target = doJobB)\n",
    "\n",
    "t1.start()\n",
    "t2.start()\n",
    "\n",
    "print(\"Ende\\r\\n\")"
   ]
  },
  {
   "cell_type": "code",
   "execution_count": null,
   "metadata": {},
   "outputs": [],
   "source": []
  }
 ],
 "metadata": {
  "kernelspec": {
   "display_name": "Python 3",
   "language": "python",
   "name": "python3"
  },
  "language_info": {
   "codemirror_mode": {
    "name": "ipython",
    "version": 3
   },
   "file_extension": ".py",
   "mimetype": "text/x-python",
   "name": "python",
   "nbconvert_exporter": "python",
   "pygments_lexer": "ipython3",
   "version": "3.7.3"
  }
 },
 "nbformat": 4,
 "nbformat_minor": 2
}
